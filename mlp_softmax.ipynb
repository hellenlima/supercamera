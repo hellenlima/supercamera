{
 "cells": [
  {
   "cell_type": "code",
   "execution_count": null,
   "metadata": {
    "collapsed": false
   },
   "outputs": [
    {
     "name": "stdout",
     "output_type": "stream",
     "text": [
      "Extracting /tmp/data/train-images-idx3-ubyte.gz\n",
      "Extracting /tmp/data/train-labels-idx1-ubyte.gz\n",
      "Extracting /tmp/data/t10k-images-idx3-ubyte.gz\n",
      "Extracting /tmp/data/t10k-labels-idx1-ubyte.gz\n"
     ]
    }
   ],
   "source": [
    "from tensorflow.examples.tutorials.mnist import input_data\n",
    "import tensorflow as tf\n",
    "import numpy as np\n",
    "#training using 11 classes, but one hidden layer\n",
    "\n",
    "mnist = input_data.read_data_sets(\"/tmp/data\", one_hot=True)\n",
    "\n",
    "  # Create the model\n",
    "x = tf.placeholder(tf.float32, [None, 784])\n",
    "#W_in = tf.Variable(tf.zeros([784, 100]))\n",
    "W_in = tf.Variable(tf.random_normal([784, 100], stddev=0.2))\n",
    "W_h = tf.Variable(tf.random_normal([100, 11], stddev=0.2))\n",
    "#W_h = tf.Variable(tf.zeros([100, 11]))\n",
    "b = tf.Variable(tf.zeros([11]))\n",
    "\n",
    "mult = tf.matmul(x, W_in) \n",
    "y = tf.matmul(mult, W_h) + b\n",
    "\n",
    "#y = tf.nn.softmax(y) no activation function\n",
    "\n",
    "rand = abs(np.random.normal(0,0.5,(2000,784)))\n",
    "mnist_train = np.array(mnist.train.images[0:20000])\n",
    "#mnist_train = np.array(mnist.train.images) #55000 entries\n",
    "input_x = np.concatenate((mnist_train, rand), axis=0) #57000 entries #22000 entries\n",
    "\n",
    "  # Define loss and optimizer\n",
    "y_ = tf.placeholder(tf.float32, [None, 11])\n",
    "\n",
    "cross_entropy = tf.reduce_mean(tf.nn.softmax_cross_entropy_with_logits(y, y_))\n",
    "train_step = tf.train.GradientDescentOptimizer(0.5).minimize(cross_entropy)\n",
    "\n",
    "label_mnist_last = np.zeros([20000,1])\n",
    "labels_mnist = np.concatenate((mnist.train.labels[0:20000], label_mnist_last), axis=1)\n",
    "labels_rnd = np.concatenate((np.zeros([2000,10]), np.ones([2000,1])), axis=1)\n",
    "labels = np.concatenate((labels_mnist, labels_rnd), axis=0)\n",
    "\n",
    "sess = tf.InteractiveSession()\n",
    "\n",
    "tf.initialize_all_variables().run()\n",
    "for _ in range(300):\n",
    "    batch_xs = input_x\n",
    "    batch_ys = labels\n",
    "    sess.run(train_step, feed_dict={x: batch_xs, y_: batch_ys})"
   ]
  },
  {
   "cell_type": "code",
   "execution_count": 32,
   "metadata": {
    "collapsed": false
   },
   "outputs": [
    {
     "name": "stdout",
     "output_type": "stream",
     "text": [
      "Test accuracy: 0.919000\n"
     ]
    }
   ],
   "source": [
    "#calculating accuracy for test\n",
    "rand_in_tst = abs(np.random.normal(0,0.5,(1000,784)))\n",
    "mnist_test = np.array(mnist.test.images)\n",
    "input_tst = np.concatenate((mnist_test, rand_in_tst), axis=0)\n",
    "\n",
    "label_mnist_last_tst = np.zeros([10000,1])\n",
    "labels_mnist_tst = np.concatenate((mnist.test.labels, label_mnist_last_tst), axis=1)\n",
    "labels_rnd_tst = np.concatenate((np.zeros([1000,10]), np.ones([1000,1])), axis=1)\n",
    "labels_tst = np.concatenate((labels_mnist_tst, labels_rnd_tst), axis=0)\n",
    "\n",
    "weights_in = np.array(sess.run(W_in))\n",
    "weights_hidden = np.array(sess.run(W_h))\n",
    "biases = np.array(sess.run(b))\n",
    "\n",
    "mult_test = np.dot(input_tst, weights_in)\n",
    "outputs_test = np.dot(mult_test, weights_hidden) + biases\n",
    "\n",
    "correct_prediction = tf.equal(tf.argmax(outputs_test, 1), tf.argmax(labels_tst, 1))\n",
    "accuracy = tf.reduce_mean(tf.cast(correct_prediction, tf.float32))\n",
    "print(\"Test accuracy: %f\" % sess.run(accuracy, feed_dict={x:input_tst,\n",
    "                                      y_: labels_tst}))"
   ]
  }
 ],
 "metadata": {
  "kernelspec": {
   "display_name": "Python 2",
   "language": "python",
   "name": "python2"
  },
  "language_info": {
   "codemirror_mode": {
    "name": "ipython",
    "version": 2
   },
   "file_extension": ".py",
   "mimetype": "text/x-python",
   "name": "python",
   "nbconvert_exporter": "python",
   "pygments_lexer": "ipython2",
   "version": "2.7.12"
  }
 },
 "nbformat": 4,
 "nbformat_minor": 1
}
